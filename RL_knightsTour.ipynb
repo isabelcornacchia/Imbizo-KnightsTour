{
 "cells": [
  {
   "cell_type": "code",
   "execution_count": 13,
   "metadata": {},
   "outputs": [],
   "source": [
    "import numpy as np\n",
    "import matplotlib.pyplot as plt\n",
    "import mdp_tut_functions as mdp\n",
    "import env_functions as ef\n",
    "from rl_utils import running_mean, discount_rwds\n",
    "\n",
    "# set seed for pseudorandom number generation -- make sure our trajectories look the same\n",
    "np.random.seed(123)\n",
    "\n",
    "%matplotlib inline\n",
    "\n",
    "from importlib import reload"
   ]
  },
  {
   "cell_type": "markdown",
   "metadata": {},
   "source": [
    "## Knight's Tour\n",
    "\n",
    "The goal is to move a knight across a chess board (only L-shaped moves) such that it visits every position in the 8x8 board only once"
   ]
  },
  {
   "cell_type": "markdown",
   "metadata": {},
   "source": [
    "### Agent\n",
    "Implement a Q-learning agent (the knight) with $\\epsilon$-greedy action selection policy. \n",
    "\n",
    "The agent selects actions from a Q-table of state-action values (initialised at zero). Most of the time it selects the greedy action (the one with highest value) but with $\\epsilon$ probability it will select a random action; this encourages the agent to explore unseen trajectories.\n",
    "\n",
    "At each step along the trajectory the agent updates the Q-table so that it can make better choices in the future based on what it has experienced from the environment."
   ]
  },
  {
   "cell_type": "code",
   "execution_count": 14,
   "metadata": {},
   "outputs": [],
   "source": [
    "class TabularAgent(object):\n",
    "    def __init__(self, nstates, nactions, \n",
    "                 learning_rate=0.1, discount=0.9, epsilon=1.0):\n",
    "        \n",
    "        self.num_actions = nactions\n",
    "        self.action_space = np.arange(self.num_actions)\n",
    "\n",
    "        # Q-table is initalised randomly (or at zero)\n",
    "        #self.q_table = np.random.uniform(low=-1, high=1, size=(nstates, nactions))\n",
    "        self.q_table = np.zeros((env.nstates, env.nactions))\n",
    "\n",
    "        # parameters for learning\n",
    "        self.epsilon       = epsilon\n",
    "        self.learning_rate = learning_rate\n",
    "        self.discount      = discount\n",
    "        \n",
    "    def choose_action(self, state):\n",
    "        \n",
    "        # action selection for an epsilon-greedy policy \n",
    "        if np.random.random()>self.epsilon:\n",
    "            # take the action which corresponds to the highest value in the q table at that row (state)\n",
    "            action = np.argmax(self.q_table[state])\n",
    "        else:\n",
    "            action = np.random.choice(self.action_space)\n",
    "        return action"
   ]
  },
  {
   "cell_type": "code",
   "execution_count": 15,
   "metadata": {},
   "outputs": [],
   "source": [
    "# TD Agents\n",
    "class Q_Agent(TabularAgent):\n",
    "    def __init__(self, nstates,nactions, learning_rate=0.1, discount=0.95, epsilon=1.0):\n",
    "        super().__init__(nstates,nactions, learning_rate=learning_rate , discount=discount, epsilon=epsilon)\n",
    "\n",
    "    def update_q_table(self, current_state, current_action, reward, new_state):\n",
    "        current_q = self.q_table[current_state, current_action]\n",
    "        max_future_q = np.max(self.q_table[new_state,:])\n",
    "        \n",
    "        new_q = current_q + self.learning_rate * (reward + self.discount * max_future_q - current_q)\n",
    "        self.q_table[current_state, current_action] = new_q\n",
    "        \n",
    "    def navigate(self, env, num_episodes, random_start=True, start=0):\n",
    "        # set how we will decay the randomness of action selection over the course of training\n",
    "        start_eps_decay = 1\n",
    "        end_eps_decay = num_episodes//2\n",
    "        epsilon_decay_value = self.epsilon/(end_eps_decay-start_eps_decay)\n",
    "\n",
    "        # initialize empty list for keeping track of rewards achieved per episode\n",
    "        reward_tracking = []\n",
    "        trajectory_tracking = []\n",
    "        max_steps = 1000\n",
    "\n",
    "        for episode in range(num_episodes):\n",
    "            env.reset()\n",
    "            self.trajectory = []\n",
    "            done = False\n",
    "            # initalize reward counter\n",
    "            total_reward=0\n",
    "\n",
    "            # get first state and action\n",
    "            # if random_start:\n",
    "            #     state=np.random.choice(env.nstates)\n",
    "            # else:\n",
    "            #     state=start\n",
    "\n",
    "            state = env.state   # first state is set in environment\n",
    "            self.trajectory.append(state)\n",
    "            \n",
    "\n",
    "            for step in range(max_steps):\n",
    "                action = self.choose_action(state)\n",
    "                # take a step in the environment\n",
    "                next_state, reward, done, _ = env.step(action)\n",
    "\n",
    "                total_reward+=reward\n",
    "                self.trajectory.append(next_state)\n",
    "\n",
    "                if not done:\n",
    "                    self.update_q_table(state, action, reward, next_state)\n",
    "                else:\n",
    "                    self.q_table[state, action] = 0\n",
    "                    break\n",
    "                state=next_state\n",
    "\n",
    "            reward_tracking.append(total_reward)\n",
    "            trajectory_tracking.append(self.trajectory)\n",
    "\n",
    "            if end_eps_decay >= episode >= start_eps_decay:\n",
    "                self.epsilon -= epsilon_decay_value\n",
    "\n",
    "        return reward_tracking, trajectory_tracking"
   ]
  },
  {
   "cell_type": "markdown",
   "metadata": {},
   "source": [
    "### Environment\n",
    "\n",
    "The environment is a chessboard with 8x8 states and 8 possible actions in each state (except along the boundaries). The transition probabilities are defined in a tensor `P(action,current_state,next_state)`.\n",
    "\n",
    "The rewards are set up as follows:\n",
    "- +1 for every step taken (to encourage the longest possible trajectory, which is 63 steps)\n",
    "- -63 when revisiting a state (which is also the terminal state of the episode)"
   ]
  },
  {
   "cell_type": "code",
   "execution_count": 26,
   "metadata": {},
   "outputs": [],
   "source": [
    "class ChessBoard(object):\n",
    "    def __init__(self, rows=8, cols=8, **kwargs):\n",
    "        '''\n",
    "        :param rows (int): specifying width (x dim) of grid\n",
    "        :param cols (int): specifying height (y dim) of grid\n",
    "        '''\n",
    "        self.shape = (rows, cols)\n",
    "        self.c = cols\n",
    "        self.r = rows\n",
    "\n",
    "        self.nstates = self.c*self.r\n",
    "\n",
    "        # Actions\n",
    "        self.action_list  = kwargs.get('actionlist', ['UL', 'UR', 'RU', 'RD', 'DR', 'DL', 'LD', 'LU'])\n",
    "        self.action_dict  = kwargs.get('actiondict', {x: ind for ind, x in enumerate([x for x in self.action_list])})\n",
    "        self.nactions = len(self.action_list)\n",
    "        self.buildTransitionMatrix()\n",
    "\n",
    "        self.rewards = np.ones((self.nstates, self.nactions))\n",
    "\n",
    "        self.random_start = kwargs.get('random_start',True)\n",
    "    \n",
    "\n",
    "    def buildTransitionMatrix(self):\n",
    "        # initialise\n",
    "        self.P = np.zeros((self.nactions, self.nstates, self.nstates))\n",
    "\n",
    "        # Central actions\n",
    "        for i in range(0,self.nstates):\n",
    "            for j in range(self.nactions): # iterate over actions\n",
    "                if j == 0: \n",
    "                    next_state = i-2*self.c-1\n",
    "                elif j == 1:\n",
    "                    next_state = i-2*self.c+1\n",
    "                elif j == 2:\n",
    "                    next_state = i-self.c+2\n",
    "                elif j == 3:\n",
    "                    next_state = i+self.c+2\n",
    "                elif j == 4:\n",
    "                    next_state = i+2*self.c+1\n",
    "                elif j == 5:\n",
    "                    next_state = i+2*self.c-1\n",
    "                elif j == 6:\n",
    "                    next_state = i+self.c-2\n",
    "                elif j == 7:\n",
    "                    next_state = i-self.c-2\n",
    "                if next_state <0 or next_state>=self.nstates:  # boundary conditions to keep actions within chessboard - WRONG (it produces a torus chessboard lol)\n",
    "                    next_state = i\n",
    "                self.P[j,i,next_state] = 1\n",
    "\n",
    "    def reset(self):\n",
    "        if self.random_start:\n",
    "            self.state = np.random.choice(np.arange(self.nstates))\n",
    "        else:\n",
    "            self.state = 0\n",
    "            \n",
    "        self.done = False\n",
    "        self.trajectory = [] # to save visited states and define terminal point\n",
    "        \n",
    "        return\n",
    "\n",
    "\n",
    "    def step(self, action):\n",
    "\n",
    "        # check if move is valid, and then move\n",
    "        # x = self.get_actions()\n",
    "        if not self.action_list[action]:\n",
    "            raise Exception('Agent has tried an invalid action!')\n",
    "            # pass\n",
    "        else:\n",
    "            transition_probs = self.P[action, self.state,:]\n",
    "            self.state = np.nonzero(transition_probs)[0][0]  # update to new state\n",
    "\n",
    "        if self.state in self.trajectory: \n",
    "            self.done = True\n",
    "            reward = -60\n",
    "        else:\n",
    "            # reward = self.rewards[self.state, action]\n",
    "            reward = 1\n",
    "\n",
    "        self.trajectory.append(self.state) \n",
    "\n",
    "        is_terminal = self.done\n",
    "\n",
    "        return self.state, reward, is_terminal, {}\n",
    "\n",
    "\n"
   ]
  },
  {
   "cell_type": "code",
   "execution_count": 27,
   "metadata": {},
   "outputs": [
    {
     "data": {
      "text/plain": [
       "{'UL': 0, 'UR': 1, 'RU': 2, 'RD': 3, 'DR': 4, 'DL': 5, 'LD': 6, 'LU': 7}"
      ]
     },
     "execution_count": 27,
     "metadata": {},
     "output_type": "execute_result"
    }
   ],
   "source": [
    "# action list\n",
    "s = ['UL', 'UR', 'RU', 'RD', 'DR', 'DL', 'LD', 'LU']\n",
    "{x: ind for ind,x in enumerate([x for x in s])}"
   ]
  },
  {
   "cell_type": "code",
   "execution_count": 28,
   "metadata": {},
   "outputs": [],
   "source": [
    "# Initialise environment and agent\n",
    "env = ChessBoard()\n",
    "q_knight = Q_Agent(env.nstates, env.nactions)"
   ]
  },
  {
   "cell_type": "code",
   "execution_count": 24,
   "metadata": {},
   "outputs": [],
   "source": [
    "# Implement learning\n",
    "q_rewards, q_traj = q_knight.navigate(env, num_episodes=4000)"
   ]
  },
  {
   "cell_type": "code",
   "execution_count": 25,
   "metadata": {},
   "outputs": [
    {
     "data": {
      "text/plain": [
       "Text(0.5, 1.0, 'Target reward: 0')"
      ]
     },
     "execution_count": 25,
     "metadata": {},
     "output_type": "execute_result"
    },
    {
     "data": {
      "image/png": "[encoded data removed]",
      "text/plain": [
       "<Figure size 432x288 with 1 Axes>"
      ]
     },
     "metadata": {
      "needs_background": "light"
     },
     "output_type": "display_data"
    }
   ],
   "source": [
    "# Plot the learning over episodes\n",
    "plt.plot(running_mean(q_rewards, N=10))\n",
    "plt.xlabel('Episodes')\n",
    "plt.ylabel('Reward')\n",
    "plt.title('Target reward: 0')"
   ]
  },
  {
   "cell_type": "code",
   "execution_count": 309,
   "metadata": {},
   "outputs": [
    {
     "data": {
      "text/plain": [
       "<matplotlib.image.AxesImage at 0x7fa013061ed0>"
      ]
     },
     "execution_count": 309,
     "metadata": {},
     "output_type": "execute_result"
    },
    {
     "data": {
      "image/png": "[encoded data removed]",
      "text/plain": [
       "<Figure size 432x288 with 1 Axes>"
      ]
     },
     "metadata": {
      "needs_background": "light"
     },
     "output_type": "display_data"
    }
   ],
   "source": [
    "# plt.imshow(q_knight.q_table[:,0].reshape(env.r,env.c))"
   ]
  },
  {
   "cell_type": "code",
   "execution_count": null,
   "metadata": {},
   "outputs": [],
   "source": []
  }
 ],
 "metadata": {
  "kernelspec": {
   "display_name": "Python 3.7.12 ('BrainDecoding')",
   "language": "python",
   "name": "python3"
  },
  "language_info": {
   "codemirror_mode": {
    "name": "ipython",
    "version": 3
   },
   "file_extension": ".py",
   "mimetype": "text/x-python",
   "name": "python",
   "nbconvert_exporter": "python",
   "pygments_lexer": "ipython3",
   "version": "3.7.12"
  },
  "orig_nbformat": 4,
  "vscode": {
   "interpreter": {
    "hash": "320c89c4851efc98d7c9e70e186d847503e76605d110f12b4d1867391d6fdc67"
   }
  }
 },
 "nbformat": 4,
 "nbformat_minor": 2
}
